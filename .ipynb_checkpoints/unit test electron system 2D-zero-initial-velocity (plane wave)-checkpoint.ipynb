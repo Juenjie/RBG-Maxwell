{
 "cells": [
  {
   "cell_type": "markdown",
   "metadata": {},
   "source": [
    "# 1. Specify the system type"
   ]
  },
  {
   "cell_type": "code",
   "execution_count": 1,
   "metadata": {
    "collapsed": true,
    "jupyter": {
     "outputs_hidden": true
    }
   },
   "outputs": [
    {
     "name": "stderr",
     "output_type": "stream",
     "text": [
      "2024-05-15 23:39:41,326\tINFO worker.py:1622 -- Started a local Ray instance. View the dashboard at \u001b[1m\u001b[32mhttp://127.0.0.1:8271 \u001b[39m\u001b[22m\n"
     ]
    },
    {
     "data": {
      "text/html": [
       "<div>\n",
       "    <div style=\"margin-left: 50px;display: flex;flex-direction: row;align-items: center\">\n",
       "        <h3 style=\"color: var(--jp-ui-font-color0)\">Ray</h3>\n",
       "        <svg version=\"1.1\" id=\"ray\" width=\"3em\" viewBox=\"0 0 144.5 144.6\" style=\"margin-left: 3em;margin-right: 3em\">\n",
       "            <g id=\"layer-1\">\n",
       "                <path fill=\"#00a2e9\" class=\"st0\" d=\"M97.3,77.2c-3.8-1.1-6.2,0.9-8.3,5.1c-3.5,6.8-9.9,9.9-17.4,9.6S58,88.1,54.8,81.2c-1.4-3-3-4-6.3-4.1\n",
       "                    c-5.6-0.1-9.9,0.1-13.1,6.4c-3.8,7.6-13.6,10.2-21.8,7.6C5.2,88.4-0.4,80.5,0,71.7c0.1-8.4,5.7-15.8,13.8-18.2\n",
       "                    c8.4-2.6,17.5,0.7,22.3,8c1.3,1.9,1.3,5.2,3.6,5.6c3.9,0.6,8,0.2,12,0.2c1.8,0,1.9-1.6,2.4-2.8c3.5-7.8,9.7-11.8,18-11.9\n",
       "                    c8.2-0.1,14.4,3.9,17.8,11.4c1.3,2.8,2.9,3.6,5.7,3.3c1-0.1,2,0.1,3,0c2.8-0.5,6.4,1.7,8.1-2.7s-2.3-5.5-4.1-7.5\n",
       "                    c-5.1-5.7-10.9-10.8-16.1-16.3C84,38,81.9,37.1,78,38.3C66.7,42,56.2,35.7,53,24.1C50.3,14,57.3,2.8,67.7,0.5\n",
       "                    C78.4-2,89,4.7,91.5,15.3c0.1,0.3,0.1,0.5,0.2,0.8c0.7,3.4,0.7,6.9-0.8,9.8c-1.7,3.2-0.8,5,1.5,7.2c6.7,6.5,13.3,13,19.8,19.7\n",
       "                    c1.8,1.8,3,2.1,5.5,1.2c9.1-3.4,17.9-0.6,23.4,7c4.8,6.9,4.6,16.1-0.4,22.9c-5.4,7.2-14.2,9.9-23.1,6.5c-2.3-0.9-3.5-0.6-5.1,1.1\n",
       "                    c-6.7,6.9-13.6,13.7-20.5,20.4c-1.8,1.8-2.5,3.2-1.4,5.9c3.5,8.7,0.3,18.6-7.7,23.6c-7.9,5-18.2,3.8-24.8-2.9\n",
       "                    c-6.4-6.4-7.4-16.2-2.5-24.3c4.9-7.8,14.5-11,23.1-7.8c3,1.1,4.7,0.5,6.9-1.7C91.7,98.4,98,92.3,104.2,86c1.6-1.6,4.1-2.7,2.6-6.2\n",
       "                    c-1.4-3.3-3.8-2.5-6.2-2.6C99.8,77.2,98.9,77.2,97.3,77.2z M72.1,29.7c5.5,0.1,9.9-4.3,10-9.8c0-0.1,0-0.2,0-0.3\n",
       "                    C81.8,14,77,9.8,71.5,10.2c-5,0.3-9,4.2-9.3,9.2c-0.2,5.5,4,10.1,9.5,10.3C71.8,29.7,72,29.7,72.1,29.7z M72.3,62.3\n",
       "                    c-5.4-0.1-9.9,4.2-10.1,9.7c0,0.2,0,0.3,0,0.5c0.2,5.4,4.5,9.7,9.9,10c5.1,0.1,9.9-4.7,10.1-9.8c0.2-5.5-4-10-9.5-10.3\n",
       "                    C72.6,62.3,72.4,62.3,72.3,62.3z M115,72.5c0.1,5.4,4.5,9.7,9.8,9.9c5.6-0.2,10-4.8,10-10.4c-0.2-5.4-4.6-9.7-10-9.7\n",
       "                    c-5.3-0.1-9.8,4.2-9.9,9.5C115,72.1,115,72.3,115,72.5z M19.5,62.3c-5.4,0.1-9.8,4.4-10,9.8c-0.1,5.1,5.2,10.4,10.2,10.3\n",
       "                    c5.6-0.2,10-4.9,9.8-10.5c-0.1-5.4-4.5-9.7-9.9-9.6C19.6,62.3,19.5,62.3,19.5,62.3z M71.8,134.6c5.9,0.2,10.3-3.9,10.4-9.6\n",
       "                    c0.5-5.5-3.6-10.4-9.1-10.8c-5.5-0.5-10.4,3.6-10.8,9.1c0,0.5,0,0.9,0,1.4c-0.2,5.3,4,9.8,9.3,10\n",
       "                    C71.6,134.6,71.7,134.6,71.8,134.6z\"/>\n",
       "            </g>\n",
       "        </svg>\n",
       "        <table>\n",
       "            <tr>\n",
       "                <td style=\"text-align: left\"><b>Python version:</b></td>\n",
       "                <td style=\"text-align: left\"><b>3.7.13</b></td>\n",
       "            </tr>\n",
       "            <tr>\n",
       "                <td style=\"text-align: left\"><b>Ray version:</b></td>\n",
       "                <td style=\"text-align: left\"><b> 2.4.0</b></td>\n",
       "            </tr>\n",
       "            <tr>\n",
       "    <td style=\"text-align: left\"><b>Dashboard:</b></td>\n",
       "    <td style=\"text-align: left\"><b><a href=\"http://127.0.0.1:8271\" target=\"_blank\">http://127.0.0.1:8271</a></b></td>\n",
       "</tr>\n",
       "\n",
       "        </table>\n",
       "    </div>\n",
       "</div>\n"
      ],
      "text/plain": [
       "RayContext(dashboard_url='127.0.0.1:8271', python_version='3.7.13', ray_version='2.4.0', ray_commit='4479f66d4db967d3c9dd0af2572061276ba926ba', address_info={'node_ip_address': '90.0.0.254', 'raylet_ip_address': '90.0.0.254', 'redis_address': None, 'object_store_address': '/data/smy/session_2024-05-15_23-39-38_965728_2819921/sockets/plasma_store', 'raylet_socket_name': '/data/smy/session_2024-05-15_23-39-38_965728_2819921/sockets/raylet', 'webui_url': '127.0.0.1:8271', 'session_dir': '/data/smy/session_2024-05-15_23-39-38_965728_2819921', 'metrics_export_port': 61771, 'gcs_address': '90.0.0.254:50437', 'address': '90.0.0.254:50437', 'dashboard_agent_listen_port': 52365, 'node_id': '3f8b30ad23d10960f1a60e19d520b9685e0eb88a510be3d036d8b3cd'})"
      ]
     },
     "execution_count": 1,
     "metadata": {},
     "output_type": "execute_result"
    }
   ],
   "source": [
    "import warnings\n",
    "warnings.filterwarnings(\"ignore\")\n",
    "\n",
    "# specify the system\n",
    "from RBG_Maxwell.Collision_database.select_system import which_system\n",
    "\n",
    "plasma_system = 'Fusion_system'\n",
    "which_system(plasma_system)\n",
    "\n",
    "from RBG_Maxwell.Collision_database.Fusion_system.collision_type import collision_type_for_all_species\n",
    "import ray\n",
    "ray.shutdown()\n",
    "ray.init(_temp_dir='/data/smy')"
   ]
  },
  {
   "cell_type": "markdown",
   "metadata": {},
   "source": [
    "# 2. Specify the coefficient for unit conversion "
   ]
  },
  {
   "cell_type": "code",
   "execution_count": 2,
   "metadata": {
    "collapsed": true,
    "jupyter": {
     "outputs_hidden": true
    }
   },
   "outputs": [],
   "source": [
    "from RBG_Maxwell.Unit_conversion.main import determine_coefficient_for_unit_conversion, unit_conversion\n",
    "import numpy as np"
   ]
  },
  {
   "cell_type": "code",
   "execution_count": 3,
   "metadata": {},
   "outputs": [
    {
     "name": "stdout",
     "output_type": "stream",
     "text": [
      "Searching for proper scaling parameters...\n",
      "This may take several minutes.\n"
     ]
    }
   ],
   "source": [
    "# here we use a pure electron system\n",
    "# the relavant PIC code is given by Jian-Nan Chen\n",
    "\n",
    "# give the quantities in SI\n",
    "# the spatial grid is chosen to be dx=dy=dz=10**(-4) m\n",
    "dx = dy = 10**(-5)\n",
    "dz = 10**(-5)\n",
    "\n",
    "# velocity\n",
    "v = 0\n",
    "v_max = 1.5*10**6\n",
    "\n",
    "# charge\n",
    "Q = 1.6*10**(-19) \n",
    "\n",
    "# maximum momentum is roughly 10**(-30)kg*10**5m/s\n",
    "momentum = 10**(-30)*v_max\n",
    "\n",
    "# the momentum grid is set to be \n",
    "# npy=100, npx=npz=1, half_px=half_pz=half_py~10**(-25)\n",
    "dp = momentum/100\n",
    "dp_volume = momentum**3/100\n",
    "\n",
    "# time scale\n",
    "dt = 10**(-13)\n",
    "\n",
    "n_max = 5*10**(-14)/(1.6*10**(-19))/101\n",
    "n_average = 5*10**(-14)/(1.6*10**(-19))/101/251\n",
    "\n",
    "\n",
    "E = 10**8\n",
    "B = 10\n",
    "\n",
    "# Now find the coefficient\n",
    "hbar, c, lambdax, epsilon0 = determine_coefficient_for_unit_conversion(dt, dx, dx*dy*dz, dp, dp_volume,\\\n",
    "                                                                       n_max, n_average, v_max, E, B)"
   ]
  },
  {
   "cell_type": "code",
   "execution_count": 4,
   "metadata": {},
   "outputs": [
    {
     "data": {
      "text/plain": [
       "(1e-06, 1000000000, 1e-22, 1e-05)"
      ]
     },
     "execution_count": 4,
     "metadata": {},
     "output_type": "execute_result"
    }
   ],
   "source": [
    "hbar, c, lambdax, epsilon0"
   ]
  },
  {
   "cell_type": "code",
   "execution_count": 5,
   "metadata": {
    "collapsed": true,
    "jupyter": {
     "outputs_hidden": true
    }
   },
   "outputs": [],
   "source": [
    "conversion_table = \\\n",
    "unit_conversion('SI_to_LHQCD', coef_J_to_E=lambdax, hbar=hbar, c=c, k=1., epsilon0=epsilon0)\n",
    "conversion_table_reverse = \\\n",
    "unit_conversion('LHQCD_to_SI', coef_J_to_E=lambdax, hbar=hbar, c=c, k=1., epsilon0=epsilon0)"
   ]
  },
  {
   "cell_type": "markdown",
   "metadata": {},
   "source": [
    "# 3. Specify the configurations for plasma evolution"
   ]
  },
  {
   "cell_type": "code",
   "execution_count": 6,
   "metadata": {
    "collapsed": true,
    "jupyter": {
     "outputs_hidden": true
    }
   },
   "outputs": [],
   "source": [
    "# import the main class Plasma\n",
    "from RBG_Maxwell.Plasma.main import Plasma"
   ]
  },
  {
   "cell_type": "code",
   "execution_count": 7,
   "metadata": {
    "collapsed": true,
    "jupyter": {
     "outputs_hidden": true
    },
    "tags": []
   },
   "outputs": [],
   "source": [
    "# time step, and spatial infinitesimals\n",
    "# dt is 10**(-13) s, dx = dy = dz = 10**(-5) m\n",
    "dt, dx, dy, dz = dt*conversion_table['second'], \\\n",
    "                 dx*conversion_table['meter'], \\\n",
    "                 dy*conversion_table['meter'], \\\n",
    "                 dz*conversion_table['meter']\n",
    "\n",
    "# we have only one type of particle e-\n",
    "num_particle_species = 1\n",
    "\n",
    "# treat the electron as classical particles\n",
    "particle_type = np.array([0])\n",
    "\n",
    "# masses, charges and degenericies are\n",
    "masses, charges, degeneracy = np.array([9.11*10**(-31)*conversion_table['kilogram']]), \\\n",
    "                              np.array([-1.6*10**(-19)*conversion_table['Coulomb']]),\\\n",
    "                              np.array([1.])\n",
    "\n",
    "# momentum grids\n",
    "npx, npy, npz = 1, 201, 1\n",
    "\n",
    "# half_px, half_py, half_pz\n",
    "# momentum range for x and z direction are not import in this case\n",
    "half_px, half_py, half_pz = np.array([9.11*10**(-31)*v_max*conversion_table['momentum']]), \\\n",
    "                            np.array([9.11*10**(-31)*v_max*conversion_table['momentum']]),\\\n",
    "                            np.array([9.11*10**(-31)*v_max*conversion_table['momentum']])\n",
    "\n",
    "dpx, dpy, dpz = 2*half_px/npx, 2*half_py/npy, 2*half_pz/npz\n",
    "\n",
    "# load the collision matrix\n",
    "flavor, collision_type, particle_order = collision_type_for_all_species()\n",
    "expected_collision_type = ['2TO2']"
   ]
  },
  {
   "cell_type": "markdown",
   "metadata": {},
   "source": [
    "# 4. Specify the parallel configuration for plasma evolution"
   ]
  },
  {
   "cell_type": "code",
   "execution_count": 8,
   "metadata": {
    "collapsed": true,
    "jupyter": {
     "outputs_hidden": true
    }
   },
   "outputs": [],
   "source": [
    "# number of spatial grids\n",
    "# must be integers and lists\n",
    "# odd numbers are recomended\n",
    "# the maximum spatial gird is limited by CUDA, it's about nx*ny*nz~30000 for each card\n",
    "nx_o, ny_o, nz_o = [1], [251], [111]\n",
    "\n",
    "# value of the left boundary\n",
    "# this is the \n",
    "x_left_bound_o, y_left_bound_o, z_left_bound_o = [-0.5*dx],\\\n",
    "                                                 [-125.5*dy],\\\n",
    "                                                 [-55.5*dz]\n",
    "\n",
    "# number samples gives the number of sample points in MC integration\n",
    "num_samples = 100\n",
    "\n",
    "# Only specify one spatial region\n",
    "number_regions = 1\n",
    "\n",
    "# each spatial should use the full GPU, this number can be fractional if many regions are chosen\n",
    "# and only one GPU is available\n",
    "num_gpus_for_each_region = 1\n",
    "\n",
    "\n",
    "# since only one region is specified, this will be empty\n",
    "sub_region_relations = {'indicator': [[]],\\\n",
    "                        'position': [[]]}\n",
    "\n",
    "# if np.ones are used, the boundaries are absorbing boundaries\n",
    "# if np.zeros are used, it is reflection boundary\n",
    "# numbers in between is also allowed\n",
    "boundary_configuration = {}\n",
    "for i_reg in range(number_regions):\n",
    "    bound_x = np.ones([ny_o[i_reg], nz_o[i_reg]])\n",
    "    bound_y = np.ones([nz_o[i_reg], nx_o[i_reg]])\n",
    "    bound_z = np.ones([nx_o[i_reg], ny_o[i_reg]])\n",
    "    boundary_configuration[i_reg] = (bound_x, bound_y, bound_z)"
   ]
  },
  {
   "cell_type": "markdown",
   "metadata": {},
   "source": [
    "# 5. Specify the initial and boundary condition for plasma evolution"
   ]
  },
  {
   "cell_type": "code",
   "execution_count": 9,
   "metadata": {
    "collapsed": true,
    "jupyter": {
     "outputs_hidden": true
    }
   },
   "outputs": [],
   "source": [
    "num_momentum_levels = 1\n",
    "\n",
    "# iniital distribution function\n",
    "f = {}\n",
    "for i_reg in range(number_regions):\n",
    "    f[i_reg] = np.zeros([num_momentum_levels, num_particle_species,\\\n",
    "                         nx_o[i_reg], ny_o[i_reg], nz_o[i_reg], npx, npy, npz])\n"
   ]
  },
  {
   "cell_type": "code",
   "execution_count": 10,
   "metadata": {},
   "outputs": [
    {
     "name": "stdout",
     "output_type": "stream",
     "text": [
      "[100]\n"
     ]
    }
   ],
   "source": [
    "'''\n",
    "The total number of particles is 5*10**(-13)/(1.6*10**(-19)) ~ 31249999.999999996.\n",
    "Put these particles in 101 grids, the number density of the particles is \n",
    "31249999.999999996/(101*dx*dy*dz) ~ 756837.0957070973 -> Delta_N/Delta_V.\n",
    "The particles only possess the momentum region of size dpx*dpy*dpz,\n",
    "hence the distribution function at each phase space grid is\n",
    "756837.0957070973/(dpx*dpy*dpz) ~ 756837.0957070973/(2*half_px/npx*2*half_py/npy*2*half_pz/npz)\n",
    "~ 1234.63197049\n",
    "'''\n",
    "dn_dv = 5*10**(-14)/(1.6*10**(-19))/(101*dx*dy*dz*dpx*dpy*dpz)\n",
    "\n",
    "# nx=0, ny=90, nz=[30:41]\n",
    "# e-, the first two indices correspond to num_momentum_levels=1, and num_particle_types=1\n",
    "ai = 0\n",
    "import math\n",
    "for i in range(3,101):\n",
    "    f[0][0, 0, 0,125,5:106,0,100+i,0] = math.exp(-(i/2.7986)**2)*dn_dv\n",
    "    f[0][0, 0, 0,125,5:106,0,100-i,0] = math.exp(-(i/2.7986)**2)*dn_dv\n",
    "    ai += 2*math.exp(-(i/2.7986)**2)\n",
    "    \n",
    "# f[0][0, 0, 0,125,5:106,0,101,0] = dn_dv/10**3\n",
    "# f[0][0, 0, 0,125,5:106,0,99,0] = dn_dv/10**3\n",
    "# f[0][0, 0, 0,125,5:106,0,100,0] = (1-ai)*dn_dv\n",
    "\n",
    "# f[0][0, 0, 0,8,5:106,0,ipy,0] = 0.778801*dn_dv\n",
    "# f[0][0, 0, 0,10,5:106,0,ipy,0] = 0.778801*dn_dv\n",
    "# f[0][0, 0, 0,7,5:106,0,ipy,0] = 0.367879*dn_dv\n",
    "# f[0][0, 0, 0,11,5:106,0,ipy,0] = 0.367879*dn_dv\n",
    "# f[0][0, 0, 0,6,5:106,0,ipy,0] = 0.105399*dn_dv\n",
    "# f[0][0, 0, 0,12,5:106,0,ipy,0] = 0.105399*dn_dv\n",
    "# f[0][0, 0, 0,5,5:106,0,ipy,0] = 0.0183156*dn_dv\n",
    "# f[0][0, 0, 0,13,5:106,0,ipy,0] = 0.0183156*dn_dv\n",
    "# f[0][0, 0, 0,4,5:106,0,ipy,0] = 0.00193045*dn_dv\n",
    "# f[0][0, 0, 0,14,5:106,0,ipy,0] = 0.00193045*dn_dv\n",
    "\n",
    "# reshape the distribution function in different regions\n",
    "for i_reg in range(number_regions):\n",
    "    f[i_reg] = f[i_reg].reshape([num_momentum_levels, num_particle_species,\\\n",
    "                                 nx_o[i_reg]*ny_o[i_reg]*nz_o[i_reg]*npx*npy*npz])\n",
    "\n",
    "'''\n",
    "We add an external magnetic field of 10 T in the +y direction\n",
    "'''\n",
    "BBy = [10*conversion_table['Tesla']*np.ones(nx_o[0]*ny_o[0]*nz_o[0])]\n",
    "BEx, BEy, BEz, BBx, BBz = [0],[0],[0],[0],[0]\n",
    "\n",
    "plasma = Plasma(f, dt, \\\n",
    "                nx_o, ny_o, nz_o, dx, dy, dz, boundary_configuration, \\\n",
    "                x_left_bound_o, y_left_bound_o, z_left_bound_o, \\\n",
    "                npx, npy, npz, half_px, half_py, half_pz,\\\n",
    "                masses, charges, sub_region_relations,\\\n",
    "                flavor, collision_type, particle_type,\\\n",
    "                degeneracy, expected_collision_type,\\\n",
    "                num_gpus_for_each_region,\\\n",
    "                hbar, c, lambdax, epsilon0, \\\n",
    "                num_samples = 100, drift_order = 2,\\\n",
    "                rho_J_method=\"raw\", GPU_ids_for_each_region = [\"2\"])"
   ]
  },
  {
   "cell_type": "markdown",
   "metadata": {
    "tags": []
   },
   "source": [
    "# 6. Perform evolution"
   ]
  },
  {
   "cell_type": "code",
   "execution_count": 11,
   "metadata": {
    "scrolled": true,
    "tags": []
   },
   "outputs": [
    {
     "name": "stdout",
     "output_type": "stream",
     "text": [
      "\u001b[2m\u001b[36m(Plasma_single_GPU pid=2827907)\u001b[0m Using context GPU-664076ee-e781-2b13-0c9d-55cb6696c522 for region 0.\n",
      "Updating the 0-th time step\n",
      "Updating the 1000-th time step\n",
      "Updating the 2000-th time step\n",
      "Updating the 3000-th time step\n",
      "Updating the 4000-th time step\n",
      "Updating the 5000-th time step\n",
      "Updating the 6000-th time step\n",
      "Updating the 7000-th time step\n",
      "Updating the 8000-th time step\n",
      "Updating the 9000-th time step\n",
      "Updating the 10000-th time step\n"
     ]
    }
   ],
   "source": [
    "n_step = 10001\n",
    "number_rho = []\n",
    "EM = []\n",
    "charged_rho = []\n",
    "dis = []\n",
    "VT= []\n",
    "DT = []\n",
    "Force = []\n",
    "import time\n",
    "start_time = time.time()\n",
    "for i_time in range(n_step):  \n",
    "    \n",
    "    if i_time%1000== 0:\n",
    "        dis.append(plasma.acquire_values(\"Distribution\"))            \n",
    "    plasma.proceed_one_step(i_time, n_step, processes = {'VT':1., 'DT':1., 'CT':0.},\\\n",
    "                            BEx = BEx, BEy = BEy, BEz = BEz, BBx = BBx, BBy = BBy, BBz = BBz)\n",
    "    if i_time%1000== 0:     \n",
    "        print('Updating the {}-th time step'.format(i_time))\n",
    "        number_rho.append(plasma.acquire_values(\"number_rho/J\"))\n",
    "        charged_rho.append(plasma.acquire_values(\"Electric rho/J\"))\n",
    "        Force.append(plasma.acquire_values(\"Forces\"))\n",
    "    EM.append(plasma.acquire_values('EM fields on current region'))\n",
    "# end_time = time.time()"
   ]
  },
  {
   "cell_type": "markdown",
   "metadata": {},
   "source": [
    "# 7. Results"
   ]
  },
  {
   "cell_type": "code",
   "execution_count": 12,
   "metadata": {},
   "outputs": [
    {
     "data": {
      "image/png": "[encoded data removed]",
      "text/plain": [
       "<Figure size 1500x500 with 10 Axes>"
      ]
     },
     "metadata": {},
     "output_type": "display_data"
    }
   ],
   "source": [
    "# spatial distribution\n",
    "import matplotlib.pyplot as plt\n",
    "xi, yi = np.mgrid[1:252:1,1:112:1]\n",
    "fig, axes = plt.subplots(ncols=5, nrows=2, figsize = (15,5))\n",
    "for jj in range(2):\n",
    "    for kk in range(5):\n",
    "        axes[jj,kk].pcolormesh(xi, yi, number_rho[(jj*5+kk+1)][0][0].reshape([nx_o[0],ny_o[0],nz_o[0]])[0])\n",
    "        # axes[jj,kk].contour(xi, yi, data[jj*5+kk].sum(axis=-1)[0,1])"
   ]
  },
  {
   "cell_type": "markdown",
   "metadata": {},
   "source": [
    "# save data"
   ]
  },
  {
   "cell_type": "code",
   "execution_count": 117,
   "metadata": {
    "collapsed": true,
    "jupyter": {
     "outputs_hidden": true
    }
   },
   "outputs": [],
   "source": [
    "for ii in [50,80,210]:\n",
    "    Ey = [EM[i][0][1]*conversion_table_reverse['TO_Volt/m'] for i in range(0,10000,100)]\n",
    "    Ey = [Ey[i].reshape([nx_o[0],ny_o[0],nz_o[0]])[0,ii,55] for i in range(100)]\n",
    "    x = np.linspace(0,100,num=100)*dt*conversion_table_reverse['TO_second']*100*10**9\n",
    "    # data in point pair\n",
    "    np.savetxt('Ey@'+str(ii)+'.txt',np.transpose(Ey).flatten())\n",
    "xi, yi = np.mgrid[1:252:1,1:112:1]\n",
    "for i in range(11):\n",
    "    # data in point pairs\n",
    "    num_save = np.transpose([number_rho[i][0][0].reshape([nx_o[0],ny_o[0],nz_o[0]])[0]/conversion_table_reverse['TO_meter']**3])\n",
    "    np.savetxt('number density@'+str(i)+'.txt',num_save.flatten())"
   ]
  },
  {
   "cell_type": "code",
   "execution_count": 118,
   "metadata": {},
   "outputs": [
    {
     "data": {
      "text/plain": [
       "(251, 111)"
      ]
     },
     "execution_count": 118,
     "metadata": {},
     "output_type": "execute_result"
    }
   ],
   "source": [
    "np.array(number_rho[0][0][0]).reshape([nx_o[0],ny_o[0],nz_o[0]])[0].shape"
   ]
  },
  {
   "cell_type": "code",
   "execution_count": null,
   "metadata": {
    "collapsed": true,
    "jupyter": {
     "outputs_hidden": true
    }
   },
   "outputs": [],
   "source": []
  }
 ],
 "metadata": {
  "kernelspec": {
   "display_name": "Python 3 (ipykernel)",
   "language": "python",
   "name": "python3"
  },
  "language_info": {
   "codemirror_mode": {
    "name": "ipython",
    "version": 3
   },
   "file_extension": ".py",
   "mimetype": "text/x-python",
   "name": "python",
   "nbconvert_exporter": "python",
   "pygments_lexer": "ipython3",
   "version": "3.7.13"
  }
 },
 "nbformat": 4,
 "nbformat_minor": 5
}
