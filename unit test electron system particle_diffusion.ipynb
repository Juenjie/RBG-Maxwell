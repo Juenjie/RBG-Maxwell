{
 "cells": [
  {
   "cell_type": "markdown",
   "metadata": {},
   "source": [
    "# 1. Specify the system type"
   ]
  },
  {
   "cell_type": "code",
   "execution_count": 1,
   "metadata": {},
   "outputs": [],
   "source": [
    "import warnings\n",
    "warnings.filterwarnings(\"ignore\")\n",
    "\n",
    "# specify the system\n",
    "from RBG_Maxwell.Collision_database.select_system import which_system\n",
    "\n",
    "plasma_system = 'Fusion_system'\n",
    "which_system(plasma_system)\n",
    "\n",
    "from RBG_Maxwell.Collision_database.Fusion_system.collision_type import collision_type_for_all_species\n",
    "\n",
    "# import ray\n",
    "# ray.shutdown()\n",
    "# ray.init(_temp_dir='/data/sunmingyan')"
   ]
  },
  {
   "cell_type": "markdown",
   "metadata": {},
   "source": [
    "# 2. Specify the coefficient for unit conversion "
   ]
  },
  {
   "cell_type": "code",
   "execution_count": 2,
   "metadata": {},
   "outputs": [],
   "source": [
    "from RBG_Maxwell.Unit_conversion.main import determine_coefficient_for_unit_conversion, unit_conversion\n",
    "import numpy as np"
   ]
  },
  {
   "cell_type": "code",
   "execution_count": 3,
   "metadata": {},
   "outputs": [
    {
     "name": "stdout",
     "output_type": "stream",
     "text": [
      "Searching for proper scaling parameters...\n",
      "This may take several minutes.\n"
     ]
    }
   ],
   "source": [
    "# here we use a pure electron system\n",
    "# the relavant PIC code is given by Jian-Nan Chen\n",
    "\n",
    "# give the quantities in SI\n",
    "# the spatial grid is chosen to be dx=dy=dz=10**(-4) m\n",
    "dx = dy = 5*10**(-5)\n",
    "dz = 10**(-5)\n",
    "\n",
    "# velocity\n",
    "v = 0\n",
    "v_max = 1.5*10**7\n",
    "\n",
    "# charge\n",
    "Q = 1.6*10**(-19) \n",
    "\n",
    "# maximum momentum is roughly 10**(-30)kg*10**5m/s\n",
    "momentum = 10**(-30)*v_max\n",
    "\n",
    "# the momentum grid is set to be \n",
    "# npy=100, npx=npz=1, half_px=half_pz=half_py~10**(-25)\n",
    "dp = momentum/100\n",
    "dp_volume = momentum**3/100\n",
    "\n",
    "# time scale\n",
    "dt = 10**(-13)\n",
    "\n",
    "n_max = 5*10**(-14)/(1.6*10**(-19))/101*10\n",
    "n_average = 5*10**(-14)/(1.6*10**(-19))/101/251\n",
    "\n",
    "\n",
    "E = 10**8\n",
    "B = 10\n",
    "\n",
    "# Now find the coefficient\n",
    "hbar, c, lambdax, epsilon0 = determine_coefficient_for_unit_conversion(dt, dx, dx*dy*dz, dp, dp_volume,\\\n",
    "                                                                       n_max, n_average, v_max, E, B)"
   ]
  },
  {
   "cell_type": "code",
   "execution_count": 4,
   "metadata": {},
   "outputs": [
    {
     "data": {
      "text/plain": [
       "(1e-07, 1000000000, 1e-22, 1e-07)"
      ]
     },
     "execution_count": 4,
     "metadata": {},
     "output_type": "execute_result"
    }
   ],
   "source": [
    "hbar, c, lambdax, epsilon0"
   ]
  },
  {
   "cell_type": "code",
   "execution_count": 5,
   "metadata": {},
   "outputs": [],
   "source": [
    "conversion_table = \\\n",
    "unit_conversion('SI_to_LHQCD', coef_J_to_E=lambdax, hbar=hbar, c=c, k=1., epsilon0=epsilon0)\n",
    "conversion_table_reverse = \\\n",
    "unit_conversion('LHQCD_to_SI', coef_J_to_E=lambdax, hbar=hbar, c=c, k=1., epsilon0=epsilon0)"
   ]
  },
  {
   "cell_type": "markdown",
   "metadata": {},
   "source": [
    "# 3. Specify the configurations for plasma evolution"
   ]
  },
  {
   "cell_type": "code",
   "execution_count": 6,
   "metadata": {},
   "outputs": [],
   "source": [
    "# import the main class Plasma\n",
    "from RBG_Maxwell.Plasma.main import Plasma"
   ]
  },
  {
   "cell_type": "code",
   "execution_count": 7,
   "metadata": {
    "tags": []
   },
   "outputs": [],
   "source": [
    "# time step, and spatial infinitesimals\n",
    "# dt is 10**(-13) s, dx = dy = dz = 10**(-5) m\n",
    "dt, dx, dy, dz = dt*conversion_table['second'], \\\n",
    "                 dx*conversion_table['meter'], \\\n",
    "                 dy*conversion_table['meter'], \\\n",
    "                 dz*conversion_table['meter']\n",
    "\n",
    "# we have only one type of particle e-\n",
    "num_particle_species = 1\n",
    "\n",
    "# treat the electron as classical particles\n",
    "particle_type = np.array([0])\n",
    "\n",
    "# masses, charges and degenericies are\n",
    "masses, charges, degeneracy = np.array([9.11*10**(-31)*conversion_table['kilogram']]), \\\n",
    "                              np.array([-1.6*10**(-19)*conversion_table['Coulomb']]),\\\n",
    "                              np.array([1.])\n",
    "\n",
    "# momentum grids\n",
    "npx, npy, npz = 1, 200, 1\n",
    "\n",
    "# half_px, half_py, half_pz\n",
    "# momentum range for x and z direction are not import in this case\n",
    "half_px, half_py, half_pz = np.array([9.11*10**(-31)*v_max*conversion_table['momentum']]), \\\n",
    "                            np.array([9.11*10**(-31)*v_max*conversion_table['momentum']]),\\\n",
    "                            np.array([9.11*10**(-31)*v_max*conversion_table['momentum']])\n",
    "\n",
    "dpx, dpy, dpz = 2*half_px/npx, 2*half_py/npy, 2*half_pz/npz\n",
    "\n",
    "# load the collision matrix\n",
    "flavor, collision_type, particle_order = collision_type_for_all_species()\n",
    "expected_collision_type = ['2TO2']"
   ]
  },
  {
   "cell_type": "markdown",
   "metadata": {},
   "source": [
    "# 4. Specify the parallel configuration for plasma evolution"
   ]
  },
  {
   "cell_type": "code",
   "execution_count": 8,
   "metadata": {},
   "outputs": [],
   "source": [
    "# number of spatial grids\n",
    "# must be integers and lists\n",
    "# odd numbers are recomended\n",
    "# the maximum spatial gird is limited by CUDA, it's about nx*ny*nz~30000 for each card\n",
    "nx_o, ny_o, nz_o = [1], [250], [111]\n",
    "\n",
    "# value of the left boundary\n",
    "# this is the \n",
    "x_left_bound_o, y_left_bound_o, z_left_bound_o = [-0.5*dx],\\\n",
    "                                                 [-ny_o[0]/2*dy],\\\n",
    "                                                 [-55.5*dz]\n",
    "\n",
    "# number samples gives the number of sample points in MC integration\n",
    "num_samples = 100\n",
    "\n",
    "# Only specify one spatial region\n",
    "number_regions = 1\n",
    "\n",
    "# each spatial should use the full GPU, this number can be fractional if many regions are chosen\n",
    "# and only one GPU is available\n",
    "num_gpus_for_each_region = 1\n",
    "\n",
    "\n",
    "# since only one region is specified, this will be empty\n",
    "sub_region_relations = {'indicator': [[]],\\\n",
    "                        'position': [[]]}\n",
    "\n",
    "# if np.ones are used, the boundaries are absorbing boundaries\n",
    "# if np.zeros are used, it is reflection boundary\n",
    "# numbers in between is also allowed\n",
    "boundary_configuration = {}\n",
    "for i_reg in range(number_regions):\n",
    "    bound_x = np.ones([ny_o[i_reg], nz_o[i_reg]])\n",
    "    bound_y = np.ones([nz_o[i_reg], nx_o[i_reg]])\n",
    "    bound_z = np.ones([nx_o[i_reg], ny_o[i_reg]])\n",
    "    boundary_configuration[i_reg] = (bound_x, bound_y, bound_z)\n",
    "dn_dv = 5*10**(-14)/(1.6*10**(-19))/(101*dx*dy*dz*dpx*dpy*dpz)"
   ]
  },
  {
   "cell_type": "markdown",
   "metadata": {},
   "source": [
    "# 5. Specify the initial and boundary condition for plasma evolution"
   ]
  },
  {
   "cell_type": "code",
   "execution_count": 9,
   "metadata": {},
   "outputs": [],
   "source": [
    "num_momentum_levels = 1\n",
    "\n",
    "# iniital distribution function\n",
    "f = {}\n",
    "for i_reg in range(number_regions):\n",
    "    f[i_reg] = np.zeros([num_momentum_levels, num_particle_species,\\\n",
    "                         nx_o[i_reg], ny_o[i_reg], nz_o[i_reg], npx, npy, npz])"
   ]
  },
  {
   "cell_type": "code",
   "execution_count": 10,
   "metadata": {},
   "outputs": [
    {
     "data": {
      "text/plain": [
       "[<matplotlib.lines.Line2D at 0x7ff4ac57f910>]"
      ]
     },
     "execution_count": 10,
     "metadata": {},
     "output_type": "execute_result"
    },
    {
     "data": {
      "image/png": "[encoded data removed]",
      "text/plain": [
       "<Figure size 640x480 with 1 Axes>"
      ]
     },
     "metadata": {},
     "output_type": "display_data"
    }
   ],
   "source": [
    "import math\n",
    "import matplotlib.pyplot as plt\n",
    "sigma = 5\n",
    "x = np.arange(200)\n",
    "f_p = np.zeros(200)\n",
    "f_p1 = np.zeros(200)\n",
    "for i in range(0,200):\n",
    "    f_p[i] = np.exp(-1/2*0.005*(i-100)**(2))*0.08#*dn_dv\n",
    "    f_p1[i] = 1/math.sqrt(2*math.pi*sigma**2)*np.exp(-(np.array(i-100))**2/(2*sigma**2))#*dn_dv\n",
    "#     f_p[i] = math.exp(-(i/sigma)**2)*dn_dv\n",
    "plt.plot(x,f_p,'green')\n",
    "plt.plot(x,f_p1,'red')"
   ]
  },
  {
   "cell_type": "code",
   "execution_count": 11,
   "metadata": {},
   "outputs": [],
   "source": [
    "dn_dv = 5*10**(-14)/(1.6*10**(-19))/(101*dx*dy*dz*dpx*dpy*dpz)\n",
    "sigma = 2.7986\n",
    "# 2.7986\n",
    "import math\n",
    "for j in range(2):\n",
    "    for i in range(3,200):\n",
    "        f[0][0, 0, 0,124+j,5:106,0,i,0] = np.exp(-1/2*0.005*(i-100)**(2))*0.08*dn_dv/100"
   ]
  },
  {
   "cell_type": "code",
   "execution_count": 12,
   "metadata": {},
   "outputs": [
    {
     "data": {
      "text/plain": [
       "array([17724.53850899])"
      ]
     },
     "execution_count": 12,
     "metadata": {},
     "output_type": "execute_result"
    }
   ],
   "source": [
    "f[0][0][0].sum()*dx*dy*dz*dpx*dpy*dpz"
   ]
  },
  {
   "cell_type": "code",
   "execution_count": 13,
   "metadata": {},
   "outputs": [
    {
     "name": "stdout",
     "output_type": "stream",
     "text": [
      "[419]\n"
     ]
    },
    {
     "name": "stderr",
     "output_type": "stream",
     "text": [
      "2024-05-25 15:59:49,368\tINFO worker.py:1622 -- Started a local Ray instance. View the dashboard at \u001b[1m\u001b[32mhttp://127.0.0.1:8271 \u001b[39m\u001b[22m\n"
     ]
    },
    {
     "name": "stdout",
     "output_type": "stream",
     "text": [
      "\u001b[2m\u001b[36m(Plasma_single_GPU pid=1546466)\u001b[0m Using context GPU-16b86954-6394-703e-7cf8-9ee8e9904aeb for region 0.\n"
     ]
    }
   ],
   "source": [
    "for i_reg in range(number_regions):\n",
    "    f[i_reg] = f[i_reg].reshape([num_momentum_levels, num_particle_species,\\\n",
    "                                 nx_o[i_reg]*ny_o[i_reg]*nz_o[i_reg]*npx*npy*npz])\n",
    "\n",
    "'''\n",
    "We add an external magnetic field of 10 T in the +y direction\n",
    "'''\n",
    "BBy = [10*conversion_table['Tesla']*np.ones(nx_o[0]*ny_o[0]*nz_o[0])]\n",
    "BEx, BEy, BEz, BBx, BBz = [0],[0],[0],[0],[0]\n",
    "\n",
    "plasma = Plasma(f, dt, \\\n",
    "                nx_o, ny_o, nz_o, dx, dy, dz, boundary_configuration, \\\n",
    "                x_left_bound_o, y_left_bound_o, z_left_bound_o, \\\n",
    "                npx, npy, npz, half_px, half_py, half_pz,\\\n",
    "                masses, charges, sub_region_relations,\\\n",
    "                flavor, collision_type, particle_type,\\\n",
    "                degeneracy, expected_collision_type,\\\n",
    "                num_gpus_for_each_region,\\\n",
    "                hbar, c, lambdax, epsilon0, \\\n",
    "                num_samples = 100, drift_order = 1,\\\n",
    "                rho_J_method=\"raw\", GPU_ids_for_each_region = [\"1\"])"
   ]
  },
  {
   "cell_type": "markdown",
   "metadata": {
    "tags": []
   },
   "source": [
    "# 6. Perform evolution"
   ]
  },
  {
   "cell_type": "code",
   "execution_count": 14,
   "metadata": {},
   "outputs": [
    {
     "data": {
      "text/plain": [
       "1.0001"
      ]
     },
     "execution_count": 14,
     "metadata": {},
     "output_type": "execute_result"
    }
   ],
   "source": [
    "dt*conversion_table_reverse['TO_second']*10001*10**9"
   ]
  },
  {
   "cell_type": "code",
   "execution_count": 17,
   "metadata": {
    "scrolled": true,
    "tags": []
   },
   "outputs": [
    {
     "name": "stdout",
     "output_type": "stream",
     "text": [
      "Updating the 0-th time step\n",
      "Updating the 1000-th time step\n",
      "Updating the 2000-th time step\n",
      "Updating the 3000-th time step\n",
      "Updating the 4000-th time step\n",
      "Updating the 5000-th time step\n",
      "Updating the 6000-th time step\n",
      "Updating the 7000-th time step\n",
      "Updating the 8000-th time step\n",
      "Updating the 9000-th time step\n",
      "Updating the 10000-th time step\n",
      "Updating the 11000-th time step\n",
      "Updating the 12000-th time step\n",
      "Updating the 13000-th time step\n",
      "Updating the 14000-th time step\n",
      "Updating the 15000-th time step\n",
      "Updating the 16000-th time step\n",
      "Updating the 17000-th time step\n",
      "Updating the 18000-th time step\n",
      "Updating the 19000-th time step\n",
      "Updating the 20000-th time step\n",
      "1.1081450355052949 hours\n"
     ]
    }
   ],
   "source": [
    "n_step = 40001\n",
    "number_rho = []\n",
    "EM = []\n",
    "charged_rho = []\n",
    "dis = []\n",
    "VT= []\n",
    "DT = []\n",
    "Force = []\n",
    "import time\n",
    "start_time = time.time()\n",
    "for i_time in range(n_step):  \n",
    "    \n",
    "    if i_time%1000 == 0:\n",
    "        dis.append(plasma.acquire_values(\"Distribution\"))            \n",
    "    plasma.proceed_one_step(i_time, n_step, processes = {'VT':1., 'DT':1., 'CT':0.},\\\n",
    "                            BEx = BEx, BEy = BEy, BEz = BEz, BBx = BBx, BBy = BBy, BBz = BBz)\n",
    "    if i_time%1000 == 0:     \n",
    "        print('Updating the {}-th time step'.format(i_time))\n",
    "        number_rho.append(plasma.acquire_values(\"number_rho/J\"))\n",
    "        charged_rho.append(plasma.acquire_values(\"Electric rho/J\"))\n",
    "        Force.append(plasma.acquire_values(\"Forces\"))\n",
    "#     number_rho.append(plasma.acquire_values(\"number_rho/J\"))\n",
    "    EM.append(plasma.acquire_values('EM fields on current region'))\n",
    "end_time = time.time()\n",
    "print((end_time-start_time)/3600,'hours')"
   ]
  },
  {
   "cell_type": "code",
   "execution_count": null,
   "metadata": {},
   "outputs": [],
   "source": [
    "np.save(\"plane wave dis\", arr=dis )"
   ]
  },
  {
   "cell_type": "markdown",
   "metadata": {},
   "source": [
    "# 7. Results"
   ]
  },
  {
   "cell_type": "code",
   "execution_count": 16,
   "metadata": {},
   "outputs": [
    {
     "data": {
      "text/plain": [
       "21"
      ]
     },
     "execution_count": 16,
     "metadata": {},
     "output_type": "execute_result"
    }
   ],
   "source": [
    "len(number_rho)"
   ]
  },
  {
   "cell_type": "code",
   "execution_count": 29,
   "metadata": {},
   "outputs": [
    {
     "data": {
      "image/png": "[encoded data removed]",
      "text/plain": [
       "<Figure size 640x480 with 1 Axes>"
      ]
     },
     "metadata": {},
     "output_type": "display_data"
    }
   ],
   "source": [
    "import matplotlib.pyplot as plt\n",
    "number_rho1 = np.zeros(ny_o[0])\n",
    "number_rho2 = np.zeros(ny_o[0])\n",
    "number_rho3 = np.zeros(ny_o[0])\n",
    "number = 10\n",
    "for i in range(ny_o[0]):\n",
    "    number_rho1[i] = (number_rho[10][0][0])[0].reshape([nx_o[0],ny_o[0],nz_o[0]])[0][i].sum()\n",
    "    number_rho2[i] = (number_rho[16][0][0])[0].reshape([nx_o[0],ny_o[0],nz_o[0]])[0][i].sum()\n",
    "    number_rho3[i] = (number_rho[40][0][0])[0].reshape([nx_o[0],ny_o[0],nz_o[0]])[0][i].sum()\n",
    "x = np.linspace(0,ny_o[0],num=ny_o[0])\n",
    "\n",
    "plt.plot(x[int(ny_o[0]/2+number):ny_o[0]], number_rho1[int(ny_o[0]/2+number):ny_o[0]], color='red', label='number_rho1')\n",
    "plt.plot(x[int(ny_o[0]/2+number):ny_o[0]],number_rho2[int(ny_o[0]/2+number):ny_o[0]] , color='blue', label='number_rho2')\n",
    "plt.plot(x[int(ny_o[0]/2+number):ny_o[0]],number_rho3[int(ny_o[0]/2+number):ny_o[0]] , color='black', label='number_rho3')\n",
    "# # plt.plot(x, number_rho1 ,color='red', label='number_rho1')\n",
    "# plt.plot(x,number_rho2 , color='blue', label='number_rho2')\n",
    "# plt.plot(x,number_rho3 , color='black', label='number_rho3')\n",
    "plt.legend(loc='best')\n",
    "plt.show()\n"
   ]
  },
  {
   "cell_type": "code",
   "execution_count": null,
   "metadata": {},
   "outputs": [],
   "source": [
    "# spatial distribution\n",
    "import matplotlib.pyplot as plt\n",
    "xi, yi = np.mgrid[1:251:1,1:112:1]\n",
    "fig, axes = plt.subplots(ncols=5, nrows=2, figsize = (15,5))\n",
    "for jj in range(2):\n",
    "    for kk in range(5):\n",
    "        axes[jj,kk].pcolormesh(xi, yi, number_rho[(jj*5+kk)+30][0][0].reshape([nx_o[0],ny_o[0],nz_o[0]])[0])\n",
    "        # axes[jj,kk].contour(xi, yi, data[jj*5+kk].sum(axis=-1)[0,1])"
   ]
  },
  {
   "cell_type": "code",
   "execution_count": 20,
   "metadata": {},
   "outputs": [
    {
     "data": {
      "image/png": "[encoded data removed]",
      "text/plain": [
       "<Figure size 1500x500 with 10 Axes>"
      ]
     },
     "metadata": {},
     "output_type": "display_data"
    }
   ],
   "source": [
    "# spatial distribution\n",
    "import matplotlib.pyplot as plt\n",
    "xi, yi = np.mgrid[1:251:1,1:112:1]\n",
    "fig, axes = plt.subplots(ncols=5, nrows=2, figsize = (15,5))\n",
    "for jj in range(2):\n",
    "    for kk in range(5):\n",
    "        axes[jj,kk].pcolormesh(xi, yi, number_rho[(jj*5+kk+10)][0][0].reshape([nx_o[0],ny_o[0],nz_o[0]])[0])\n",
    "        # axes[jj,kk].contour(xi, yi, data[jj*5+kk].sum(axis=-1)[0,1])"
   ]
  },
  {
   "cell_type": "code",
   "execution_count": null,
   "metadata": {},
   "outputs": [],
   "source": []
  }
 ],
 "metadata": {
  "kernelspec": {
   "display_name": "Python 3 (ipykernel)",
   "language": "python",
   "name": "python3"
  },
  "language_info": {
   "codemirror_mode": {
    "name": "ipython",
    "version": 3
   },
   "file_extension": ".py",
   "mimetype": "text/x-python",
   "name": "python",
   "nbconvert_exporter": "python",
   "pygments_lexer": "ipython3",
   "version": "3.7.13"
  }
 },
 "nbformat": 4,
 "nbformat_minor": 5
}
